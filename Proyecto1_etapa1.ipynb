{
 "cells": [
  {
   "cell_type": "markdown",
   "id": "61506624-8352-40d6-ac83-223e820a5c35",
   "metadata": {},
   "source": [
    "# Proyecto 1 Entrega 1\n",
    "Integrantes:\n",
    "* Juan David Martinez -2019\n",
    "* Johan Sebastian Caceres -202014171"
   ]
  },
  {
   "cell_type": "markdown",
   "id": "347f6558-7272-45f8-a817-9752344e0e3c",
   "metadata": {},
   "source": [
    "## 0) Carga de datos y librerias"
   ]
  },
  {
   "cell_type": "markdown",
   "id": "fde8f64a-6a4a-4323-a220-32c3641290c6",
   "metadata": {},
   "source": [
    "Temática escogida: Análisis de opinión dobre hoteles"
   ]
  },
  {
   "cell_type": "code",
   "execution_count": 1,
   "id": "9b2110d1",
   "metadata": {},
   "outputs": [
    {
     "name": "stderr",
     "output_type": "stream",
     "text": [
      "[nltk_data] Downloading package punkt to\n",
      "[nltk_data]     C:\\Users\\ASUS\\AppData\\Roaming\\nltk_data...\n",
      "[nltk_data]   Package punkt is already up-to-date!\n",
      "[nltk_data] Downloading package stopwords to\n",
      "[nltk_data]     C:\\Users\\ASUS\\AppData\\Roaming\\nltk_data...\n",
      "[nltk_data]   Package stopwords is already up-to-date!\n",
      "[nltk_data] Downloading package wordnet to\n",
      "[nltk_data]     C:\\Users\\ASUS\\AppData\\Roaming\\nltk_data...\n",
      "[nltk_data]   Package wordnet is already up-to-date!\n",
      "[nltk_data] Downloading package vader_lexicon to\n",
      "[nltk_data]     C:\\Users\\ASUS\\AppData\\Roaming\\nltk_data...\n",
      "[nltk_data]   Package vader_lexicon is already up-to-date!\n",
      "[nltk_data] Downloading package averaged_perceptron_tagger to\n",
      "[nltk_data]     C:\\Users\\ASUS\\AppData\\Roaming\\nltk_data...\n",
      "[nltk_data]   Package averaged_perceptron_tagger is already up-to-\n",
      "[nltk_data]       date!\n",
      "[nltk_data] Downloading package omw-1.4 to\n",
      "[nltk_data]     C:\\Users\\ASUS\\AppData\\Roaming\\nltk_data...\n",
      "[nltk_data]   Package omw-1.4 is already up-to-date!\n"
     ]
    },
    {
     "name": "stdout",
     "output_type": "stream",
     "text": [
      "Requirement already satisfied: langdetect in c:\\users\\asus\\anaconda3\\lib\\site-packages (1.0.9)\n",
      "Requirement already satisfied: six in c:\\users\\asus\\anaconda3\\lib\\site-packages (from langdetect) (1.16.0)\n"
     ]
    }
   ],
   "source": [
    "import string\n",
    "\n",
    "import numpy as np\n",
    "import pandas as pd\n",
    "\n",
    "import nltk\n",
    "#from nltk.tokenize import TweetTokenizer\n",
    "\n",
    "import matplotlib.pyplot as plt\n",
    "import numpy as np\n",
    "nltk.download('punkt')\n",
    "nltk.download('stopwords')\n",
    "from nltk.corpus import stopwords\n",
    "nltk.download('wordnet')\n",
    "nltk.download('vader_lexicon')\n",
    "nltk.download('averaged_perceptron_tagger')\n",
    "nltk.download('omw-1.4')\n",
    "!pip install langdetect\n",
    "from langdetect import detect\n",
    "\n",
    "\n",
    "from sklearn.neighbors import KNeighborsClassifier\n",
    "\n",
    "from sklearn.model_selection import train_test_split\n",
    "from sklearn.feature_extraction.text import CountVectorizer, TfidfVectorizer\n",
    "\n",
    "from sklearn.ensemble import RandomForestClassifier\n",
    "\n",
    "from sklearn.pipeline import Pipeline\n",
    "from sklearn.model_selection import GridSearchCV\n",
    "\n",
    "from sklearn.metrics import ConfusionMatrixDisplay, precision_score, recall_score, f1_score\n",
    "\n"
   ]
  },
  {
   "cell_type": "code",
   "execution_count": 2,
   "id": "773d9a71-4e86-4bf7-b633-3b68128ec218",
   "metadata": {},
   "outputs": [
    {
     "name": "stderr",
     "output_type": "stream",
     "text": [
      "WARNING: Skipping spellchecker as it is not installed.\n"
     ]
    }
   ],
   "source": [
    "!pip uninstall spellchecker\n"
   ]
  },
  {
   "cell_type": "code",
   "execution_count": 3,
   "id": "fb90bad9-4717-4990-8aa8-61ce6551c10d",
   "metadata": {},
   "outputs": [
    {
     "data": {
      "text/html": [
       "<div>\n",
       "<style scoped>\n",
       "    .dataframe tbody tr th:only-of-type {\n",
       "        vertical-align: middle;\n",
       "    }\n",
       "\n",
       "    .dataframe tbody tr th {\n",
       "        vertical-align: top;\n",
       "    }\n",
       "\n",
       "    .dataframe thead th {\n",
       "        text-align: right;\n",
       "    }\n",
       "</style>\n",
       "<table border=\"1\" class=\"dataframe\">\n",
       "  <thead>\n",
       "    <tr style=\"text-align: right;\">\n",
       "      <th></th>\n",
       "      <th>Unnamed: 0</th>\n",
       "      <th>title</th>\n",
       "      <th>rating</th>\n",
       "      <th>review_text</th>\n",
       "      <th>location</th>\n",
       "      <th>hotel</th>\n",
       "      <th>label</th>\n",
       "    </tr>\n",
       "  </thead>\n",
       "  <tbody>\n",
       "    <tr>\n",
       "      <th>0</th>\n",
       "      <td>0</td>\n",
       "      <td>Villa Katherina carretera de Cádiz</td>\n",
       "      <td>1</td>\n",
       "      <td>Tanto yo como mi pareja hemos vivido una exper...</td>\n",
       "      <td>Malaga_Costa_del_Sol_Province_of_Malaga_Andalucia</td>\n",
       "      <td>Villa_Katerina</td>\n",
       "      <td>0</td>\n",
       "    </tr>\n",
       "    <tr>\n",
       "      <th>1</th>\n",
       "      <td>1</td>\n",
       "      <td>Malo</td>\n",
       "      <td>1</td>\n",
       "      <td>Caro y malo.  No lo recomiendo. No hay grupo g...</td>\n",
       "      <td>Cordoba_Province_of_Cordoba_Andalucia</td>\n",
       "      <td>Hotel_Xanaes</td>\n",
       "      <td>0</td>\n",
       "    </tr>\n",
       "    <tr>\n",
       "      <th>2</th>\n",
       "      <td>2</td>\n",
       "      <td>Finde carisimo</td>\n",
       "      <td>1</td>\n",
       "      <td>Mi marido y yo fuimos a pasar un fin de semana...</td>\n",
       "      <td>Granada_Province_of_Granada_Andalucia</td>\n",
       "      <td>Hotel_Palacio_de_Los_Navas</td>\n",
       "      <td>0</td>\n",
       "    </tr>\n",
       "    <tr>\n",
       "      <th>3</th>\n",
       "      <td>3</td>\n",
       "      <td>Una vez y no más.</td>\n",
       "      <td>2</td>\n",
       "      <td>Las comparaciones son odiosas pero he de decir...</td>\n",
       "      <td>Granada_Province_of_Granada_Andalucia</td>\n",
       "      <td>Casa_Palacio_Pilar_del_Toro_Hotel</td>\n",
       "      <td>0</td>\n",
       "    </tr>\n",
       "    <tr>\n",
       "      <th>4</th>\n",
       "      <td>4</td>\n",
       "      <td>Nada que ver con las fotos</td>\n",
       "      <td>1</td>\n",
       "      <td>La limpieza de la habitación es muy mala llega...</td>\n",
       "      <td>Almeria_Province_of_Almeria_Andalucia</td>\n",
       "      <td>Hotel_Embajador</td>\n",
       "      <td>0</td>\n",
       "    </tr>\n",
       "    <tr>\n",
       "      <th>5</th>\n",
       "      <td>5</td>\n",
       "      <td>Nada recomendable</td>\n",
       "      <td>1</td>\n",
       "      <td>Nos hospedamos un grupo de amigos desde el vie...</td>\n",
       "      <td>Cordoba_Province_of_Cordoba_Andalucia</td>\n",
       "      <td>Hotel_Gran_Plaza</td>\n",
       "      <td>0</td>\n",
       "    </tr>\n",
       "    <tr>\n",
       "      <th>6</th>\n",
       "      <td>6</td>\n",
       "      <td>NADA RECOMENDABLE. TENDRÉ SIEMPRE UN RECUERDO ...</td>\n",
       "      <td>1</td>\n",
       "      <td>Realicé reserva en este hotel para los días 19...</td>\n",
       "      <td>Huelva_Province_of_Huelva_Andalucia</td>\n",
       "      <td>Exe_Tartessos</td>\n",
       "      <td>0</td>\n",
       "    </tr>\n",
       "    <tr>\n",
       "      <th>7</th>\n",
       "      <td>7</td>\n",
       "      <td>Nefasta experiencia, jamas  elijáis esta opción</td>\n",
       "      <td>1</td>\n",
       "      <td>Llegamos para pasar 24 horas en Córdoba, al pr...</td>\n",
       "      <td>Cordoba_Province_of_Cordoba_Andalucia</td>\n",
       "      <td>Hotel_Maximiano_Herculeo</td>\n",
       "      <td>0</td>\n",
       "    </tr>\n",
       "    <tr>\n",
       "      <th>8</th>\n",
       "      <td>8</td>\n",
       "      <td>Avoid this place</td>\n",
       "      <td>1</td>\n",
       "      <td>Arroyo Frio is located in the heart of the big...</td>\n",
       "      <td>Jaen_Province_of_Jaen_Andalucia</td>\n",
       "      <td>Apartamentos_Arroyo_Frio_La_Iruela</td>\n",
       "      <td>0</td>\n",
       "    </tr>\n",
       "    <tr>\n",
       "      <th>9</th>\n",
       "      <td>9</td>\n",
       "      <td>Entraron en el apartamento</td>\n",
       "      <td>2</td>\n",
       "      <td>Hemos pasado 4 amigas el fin de semana, hemos ...</td>\n",
       "      <td>Granada_Province_of_Granada_Andalucia</td>\n",
       "      <td>Pension_Venecia_Gomerez</td>\n",
       "      <td>0</td>\n",
       "    </tr>\n",
       "  </tbody>\n",
       "</table>\n",
       "</div>"
      ],
      "text/plain": [
       "   Unnamed: 0                                              title  rating  \\\n",
       "0           0                 Villa Katherina carretera de Cádiz       1   \n",
       "1           1                                               Malo       1   \n",
       "2           2                                     Finde carisimo       1   \n",
       "3           3                                  Una vez y no más.       2   \n",
       "4           4                         Nada que ver con las fotos       1   \n",
       "5           5                                  Nada recomendable       1   \n",
       "6           6  NADA RECOMENDABLE. TENDRÉ SIEMPRE UN RECUERDO ...       1   \n",
       "7           7    Nefasta experiencia, jamas  elijáis esta opción       1   \n",
       "8           8                                   Avoid this place       1   \n",
       "9           9                        Entraron en el apartamento        2   \n",
       "\n",
       "                                         review_text  \\\n",
       "0  Tanto yo como mi pareja hemos vivido una exper...   \n",
       "1  Caro y malo.  No lo recomiendo. No hay grupo g...   \n",
       "2  Mi marido y yo fuimos a pasar un fin de semana...   \n",
       "3  Las comparaciones son odiosas pero he de decir...   \n",
       "4  La limpieza de la habitación es muy mala llega...   \n",
       "5  Nos hospedamos un grupo de amigos desde el vie...   \n",
       "6  Realicé reserva en este hotel para los días 19...   \n",
       "7  Llegamos para pasar 24 horas en Córdoba, al pr...   \n",
       "8  Arroyo Frio is located in the heart of the big...   \n",
       "9  Hemos pasado 4 amigas el fin de semana, hemos ...   \n",
       "\n",
       "                                            location  \\\n",
       "0  Malaga_Costa_del_Sol_Province_of_Malaga_Andalucia   \n",
       "1              Cordoba_Province_of_Cordoba_Andalucia   \n",
       "2              Granada_Province_of_Granada_Andalucia   \n",
       "3              Granada_Province_of_Granada_Andalucia   \n",
       "4              Almeria_Province_of_Almeria_Andalucia   \n",
       "5              Cordoba_Province_of_Cordoba_Andalucia   \n",
       "6                Huelva_Province_of_Huelva_Andalucia   \n",
       "7              Cordoba_Province_of_Cordoba_Andalucia   \n",
       "8                    Jaen_Province_of_Jaen_Andalucia   \n",
       "9              Granada_Province_of_Granada_Andalucia   \n",
       "\n",
       "                                hotel  label  \n",
       "0                      Villa_Katerina      0  \n",
       "1                        Hotel_Xanaes      0  \n",
       "2          Hotel_Palacio_de_Los_Navas      0  \n",
       "3   Casa_Palacio_Pilar_del_Toro_Hotel      0  \n",
       "4                     Hotel_Embajador      0  \n",
       "5                    Hotel_Gran_Plaza      0  \n",
       "6                       Exe_Tartessos      0  \n",
       "7            Hotel_Maximiano_Herculeo      0  \n",
       "8  Apartamentos_Arroyo_Frio_La_Iruela      0  \n",
       "9             Pension_Venecia_Gomerez      0  "
      ]
     },
     "execution_count": 3,
     "metadata": {},
     "output_type": "execute_result"
    }
   ],
   "source": [
    "##Usamos sep=';' ya que el archivo CSV está dividido por ; y no por ,\n",
    "df_hotel = pd.read_csv('./data/HotelsReviews.csv')\n",
    "df_hotel_test = pd.read_csv('./data/HotelsReviewsPruebas.csv')\n",
    "\n",
    "df_hotel.head(10)"
   ]
  },
  {
   "cell_type": "markdown",
   "id": "db5a4665",
   "metadata": {},
   "source": [
    "# 1. Enfoque analítico"
   ]
  },
  {
   "cell_type": "markdown",
   "id": "d2f1bc5e",
   "metadata": {},
   "source": [
    "## 1.1 Selección de features"
   ]
  },
  {
   "cell_type": "markdown",
   "id": "54664ef1",
   "metadata": {},
   "source": [
    "En este caso, para la clasificación de reseñas de los hoteles es importante tener en cuenta todas las features para entrenar el modelo, excepto la ubicación, el título del hotel, y el id ya que no nos otorga información importante al clasificar las reseñas de los hoteles. \n",
    "\n",
    "Se usarán los features de title y review_text para la tokenización de las palabras y letras para la clasificación de las mismas. Además, se tendrá en cuenta el rating del hotel para la clasifiación de las opiniones para saber si fue una experiencia buena o mala. "
   ]
  },
  {
   "cell_type": "code",
   "execution_count": 4,
   "id": "7db33f3c",
   "metadata": {},
   "outputs": [
    {
     "data": {
      "text/plain": [
       "Unnamed: 0      int64\n",
       "title          object\n",
       "rating          int64\n",
       "review_text    object\n",
       "location       object\n",
       "hotel          object\n",
       "label           int64\n",
       "dtype: object"
      ]
     },
     "execution_count": 4,
     "metadata": {},
     "output_type": "execute_result"
    }
   ],
   "source": [
    "df_hotel.dtypes"
   ]
  },
  {
   "cell_type": "code",
   "execution_count": 5,
   "id": "afe6862e",
   "metadata": {},
   "outputs": [],
   "source": [
    "df_hotel = df_hotel.drop(['Unnamed: 0', 'location', 'hotel'], axis=1)\n",
    "df_hotel_test=  df_hotel_test.drop(['Unnamed: 0', 'location', 'hotel'], axis=1)"
   ]
  },
  {
   "cell_type": "markdown",
   "id": "915f9fac",
   "metadata": {},
   "source": [
    "## 1.2 Limpieza de datos (requerimientos ASUM_DB)\n",
    "\n"
   ]
  },
  {
   "cell_type": "markdown",
   "id": "88887bb6",
   "metadata": {},
   "source": [
    "### 1.2.1 Completitud"
   ]
  },
  {
   "cell_type": "markdown",
   "id": "e4a0a3c0",
   "metadata": {},
   "source": [
    "Revisaremos si existen nulos en las columnas de los datos del dataframe original."
   ]
  },
  {
   "cell_type": "code",
   "execution_count": 6,
   "id": "a4b62b42",
   "metadata": {},
   "outputs": [
    {
     "data": {
      "text/plain": [
       "title          0.0\n",
       "rating         0.0\n",
       "review_text    0.0\n",
       "label          0.0\n",
       "dtype: float64"
      ]
     },
     "execution_count": 6,
     "metadata": {},
     "output_type": "execute_result"
    }
   ],
   "source": [
    "(df_hotel.isnull().sum() / df_hotel.shape[0]).sort_values(ascending = False)"
   ]
  },
  {
   "cell_type": "markdown",
   "id": "81c00958",
   "metadata": {},
   "source": [
    "No existen nulos por lo que no se hará ninguna limpieza ni tratamiento de nulos en el dataframe original."
   ]
  },
  {
   "cell_type": "markdown",
   "id": "15384e7e",
   "metadata": {},
   "source": [
    "Ahora, vamos hacer el mismo procedimiento en el dataframe de prueba."
   ]
  },
  {
   "cell_type": "code",
   "execution_count": 7,
   "id": "ef088bfb",
   "metadata": {},
   "outputs": [
    {
     "data": {
      "text/plain": [
       "title          0.0\n",
       "rating         0.0\n",
       "review_text    0.0\n",
       "dtype: float64"
      ]
     },
     "execution_count": 7,
     "metadata": {},
     "output_type": "execute_result"
    }
   ],
   "source": [
    "(df_hotel_test.isnull().sum() / df_hotel_test.shape[0]).sort_values(ascending = False)"
   ]
  },
  {
   "cell_type": "markdown",
   "id": "d6a27cc6",
   "metadata": {},
   "source": [
    "Tampoco existen nulos en el dataframe de prueba por lo que no se hará ninguna limpieza ni tratamiento de nulos. "
   ]
  },
  {
   "cell_type": "markdown",
   "id": "0643eda6",
   "metadata": {},
   "source": [
    "### 1.2.2 Unicidad"
   ]
  },
  {
   "cell_type": "markdown",
   "id": "45a8f913",
   "metadata": {},
   "source": [
    "Ya que existen las reviews y los titulos, que son features que generalmente son únicas de por sí, vale la pena revisar si existen duplicados de estos registros para no sesgar el modelo."
   ]
  },
  {
   "cell_type": "code",
   "execution_count": 8,
   "id": "3f823802",
   "metadata": {},
   "outputs": [
    {
     "data": {
      "text/html": [
       "<div>\n",
       "<style scoped>\n",
       "    .dataframe tbody tr th:only-of-type {\n",
       "        vertical-align: middle;\n",
       "    }\n",
       "\n",
       "    .dataframe tbody tr th {\n",
       "        vertical-align: top;\n",
       "    }\n",
       "\n",
       "    .dataframe thead th {\n",
       "        text-align: right;\n",
       "    }\n",
       "</style>\n",
       "<table border=\"1\" class=\"dataframe\">\n",
       "  <thead>\n",
       "    <tr style=\"text-align: right;\">\n",
       "      <th></th>\n",
       "      <th>title</th>\n",
       "      <th>rating</th>\n",
       "      <th>review_text</th>\n",
       "      <th>label</th>\n",
       "    </tr>\n",
       "  </thead>\n",
       "  <tbody>\n",
       "    <tr>\n",
       "      <th>2490</th>\n",
       "      <td>10!</td>\n",
       "      <td>5</td>\n",
       "      <td>Sitio perfecto! Bien situado, muy limpio, el p...</td>\n",
       "      <td>1</td>\n",
       "    </tr>\n",
       "    <tr>\n",
       "      <th>923</th>\n",
       "      <td>10!</td>\n",
       "      <td>5</td>\n",
       "      <td>Sitio perfecto! Bien situado, muy limpio, el p...</td>\n",
       "      <td>1</td>\n",
       "    </tr>\n",
       "    <tr>\n",
       "      <th>2663</th>\n",
       "      <td>2 cumpleaños con encanto en un oasis de tranqu...</td>\n",
       "      <td>5</td>\n",
       "      <td>Hemos vuelto al Cortijo del Marques esta vez p...</td>\n",
       "      <td>1</td>\n",
       "    </tr>\n",
       "    <tr>\n",
       "      <th>2630</th>\n",
       "      <td>2 cumpleaños con encanto en un oasis de tranqu...</td>\n",
       "      <td>5</td>\n",
       "      <td>Hemos vuelto al Cortijo del Marques esta vez p...</td>\n",
       "      <td>1</td>\n",
       "    </tr>\n",
       "    <tr>\n",
       "      <th>2355</th>\n",
       "      <td>60 de Sharon</td>\n",
       "      <td>5</td>\n",
       "      <td>Qué lugar tan increíble para alojarse Lisa an ...</td>\n",
       "      <td>1</td>\n",
       "    </tr>\n",
       "    <tr>\n",
       "      <th>3102</th>\n",
       "      <td>60 de Sharon</td>\n",
       "      <td>5</td>\n",
       "      <td>Qué lugar tan increíble para alojarse Lisa an ...</td>\n",
       "      <td>1</td>\n",
       "    </tr>\n",
       "    <tr>\n",
       "      <th>1168</th>\n",
       "      <td>A beatiful building</td>\n",
       "      <td>5</td>\n",
       "      <td>· Cannot be praised enough. Extremely attracti...</td>\n",
       "      <td>1</td>\n",
       "    </tr>\n",
       "    <tr>\n",
       "      <th>2788</th>\n",
       "      <td>A beatiful building</td>\n",
       "      <td>5</td>\n",
       "      <td>· Cannot be praised enough. Extremely attracti...</td>\n",
       "      <td>1</td>\n",
       "    </tr>\n",
       "    <tr>\n",
       "      <th>216</th>\n",
       "      <td>A evitar</td>\n",
       "      <td>1</td>\n",
       "      <td>Solo se salva la cena, en particular el salmor...</td>\n",
       "      <td>0</td>\n",
       "    </tr>\n",
       "    <tr>\n",
       "      <th>293</th>\n",
       "      <td>A evitar</td>\n",
       "      <td>1</td>\n",
       "      <td>Solo se salva la cena, en particular el salmor...</td>\n",
       "      <td>0</td>\n",
       "    </tr>\n",
       "  </tbody>\n",
       "</table>\n",
       "</div>"
      ],
      "text/plain": [
       "                                                  title  rating  \\\n",
       "2490                                                10!       5   \n",
       "923                                                 10!       5   \n",
       "2663  2 cumpleaños con encanto en un oasis de tranqu...       5   \n",
       "2630  2 cumpleaños con encanto en un oasis de tranqu...       5   \n",
       "2355                                       60 de Sharon       5   \n",
       "3102                                       60 de Sharon       5   \n",
       "1168                                A beatiful building       5   \n",
       "2788                                A beatiful building       5   \n",
       "216                                           A evitar        1   \n",
       "293                                           A evitar        1   \n",
       "\n",
       "                                            review_text  label  \n",
       "2490  Sitio perfecto! Bien situado, muy limpio, el p...      1  \n",
       "923   Sitio perfecto! Bien situado, muy limpio, el p...      1  \n",
       "2663  Hemos vuelto al Cortijo del Marques esta vez p...      1  \n",
       "2630  Hemos vuelto al Cortijo del Marques esta vez p...      1  \n",
       "2355  Qué lugar tan increíble para alojarse Lisa an ...      1  \n",
       "3102  Qué lugar tan increíble para alojarse Lisa an ...      1  \n",
       "1168  · Cannot be praised enough. Extremely attracti...      1  \n",
       "2788  · Cannot be praised enough. Extremely attracti...      1  \n",
       "216   Solo se salva la cena, en particular el salmor...      0  \n",
       "293   Solo se salva la cena, en particular el salmor...      0  "
      ]
     },
     "execution_count": 8,
     "metadata": {},
     "output_type": "execute_result"
    }
   ],
   "source": [
    "df_hotel.loc[df_hotel.duplicated(subset = df_hotel.columns[0:], keep = False)].sort_values(by=\"title\").head(10)"
   ]
  },
  {
   "cell_type": "markdown",
   "id": "0cfa684a",
   "metadata": {},
   "source": [
    "Existen duplicados en el dataframe original. Por lo tanto, se procederá a elminarlos y dejar solo una muestra de ellos dentro del dataframe para el entrenamiento del modelo."
   ]
  },
  {
   "cell_type": "code",
   "execution_count": 9,
   "id": "efc37c78",
   "metadata": {},
   "outputs": [],
   "source": [
    "df_hotel.drop_duplicates(subset = df_hotel.columns[0:], keep='first', inplace = True)"
   ]
  },
  {
   "cell_type": "code",
   "execution_count": 10,
   "id": "f8bf9179",
   "metadata": {},
   "outputs": [
    {
     "data": {
      "text/plain": [
       "0"
      ]
     },
     "execution_count": 10,
     "metadata": {},
     "output_type": "execute_result"
    }
   ],
   "source": [
    "df_hotel.loc[df_hotel.duplicated(subset = df_hotel.columns[0:], keep = False)].shape[0]"
   ]
  },
  {
   "cell_type": "markdown",
   "id": "c14052f0",
   "metadata": {},
   "source": [
    "Ahora, revisaremos el dataframe de prueba para verificar que tampoco tenga nulos."
   ]
  },
  {
   "cell_type": "code",
   "execution_count": 11,
   "id": "3403547f",
   "metadata": {},
   "outputs": [
    {
     "data": {
      "text/plain": [
       "0"
      ]
     },
     "execution_count": 11,
     "metadata": {},
     "output_type": "execute_result"
    }
   ],
   "source": [
    "df_hotel_test.loc[df_hotel_test.duplicated(subset = df_hotel_test.columns[0:], keep = False)].shape[0]"
   ]
  },
  {
   "cell_type": "markdown",
   "id": "4bdd2f3c",
   "metadata": {},
   "source": [
    "No existen duplicados en el dataframe de prueba. Por esto, no se hará ninguna eliminación de duplicados en este dataframe."
   ]
  },
  {
   "cell_type": "markdown",
   "id": "454e20bb",
   "metadata": {},
   "source": [
    "## 1.4 Preparación de la variable objetivo"
   ]
  },
  {
   "cell_type": "markdown",
   "id": "50af58b5",
   "metadata": {},
   "source": [
    "Vamos a revisar las clases de la variable objetivo ('label')."
   ]
  },
  {
   "cell_type": "code",
   "execution_count": 12,
   "id": "e7bd7ef4",
   "metadata": {},
   "outputs": [
    {
     "data": {
      "text/plain": [
       "1    3258\n",
       "0     677\n",
       "3     563\n",
       "Name: label, dtype: int64"
      ]
     },
     "execution_count": 12,
     "metadata": {},
     "output_type": "execute_result"
    }
   ],
   "source": [
    "df_hotel['label'].value_counts()"
   ]
  },
  {
   "cell_type": "markdown",
   "id": "ec680058",
   "metadata": {},
   "source": [
    "Que una opinión sea neutra no nos da mucho valor para lograr el objetivo del negocio en este caso. Por esto mismo, vamos a transformar los neutros teniendo en cuenta los valores de la columna 'rating'. "
   ]
  },
  {
   "cell_type": "code",
   "execution_count": 13,
   "id": "fcb022ca",
   "metadata": {},
   "outputs": [
    {
     "data": {
      "text/plain": [
       "5    2205\n",
       "4    1053\n",
       "3     563\n",
       "1     428\n",
       "2     249\n",
       "Name: rating, dtype: int64"
      ]
     },
     "execution_count": 13,
     "metadata": {},
     "output_type": "execute_result"
    }
   ],
   "source": [
    "df_hotel['rating'].value_counts()"
   ]
  },
  {
   "cell_type": "markdown",
   "id": "c5eb3690",
   "metadata": {},
   "source": [
    "Si se tiene un registro con un valor neutro en el 'label' vamos a trasnformarlo teniendo en cuenta las siguientes condiciones:\n",
    "1. Si el rating es de <= 3, el label pasará a ser malo (0).\n",
    "2. Si el rating es de > 4, el label pasará a ser bueno (1)."
   ]
  },
  {
   "cell_type": "code",
   "execution_count": 14,
   "id": "749ee3c6",
   "metadata": {},
   "outputs": [],
   "source": [
    "mask = df_hotel['label'] == 3\n",
    "df_hotel.loc[mask, 'label'] = df_hotel.loc[mask].apply(lambda x: 0 if x['rating'] <= 3 else 1, axis=1)"
   ]
  },
  {
   "cell_type": "code",
   "execution_count": 15,
   "id": "4bb9f7ea",
   "metadata": {
    "scrolled": true
   },
   "outputs": [
    {
     "data": {
      "text/plain": [
       "1    3258\n",
       "0    1240\n",
       "Name: label, dtype: int64"
      ]
     },
     "execution_count": 15,
     "metadata": {},
     "output_type": "execute_result"
    }
   ],
   "source": [
    "df_hotel['label'].value_counts()"
   ]
  },
  {
   "cell_type": "markdown",
   "id": "daa77bea",
   "metadata": {},
   "source": [
    "# 2)Tokenización y vectorización de los textos"
   ]
  },
  {
   "cell_type": "code",
   "execution_count": 16,
   "id": "50decf80",
   "metadata": {},
   "outputs": [
    {
     "data": {
      "text/plain": [
       "Index(['title', 'rating', 'review_text', 'label'], dtype='object')"
      ]
     },
     "execution_count": 16,
     "metadata": {},
     "output_type": "execute_result"
    }
   ],
   "source": [
    "df_hotel.columns"
   ]
  },
  {
   "cell_type": "markdown",
   "id": "efe68077-3e96-4155-8536-3cd6270247fc",
   "metadata": {},
   "source": [
    "Como se explico anteriormente las features a usar son la review y el tittle por lo que para procesarlas se tomó la decisión de agrupar las dos columnas en una sola, debido a que el procesamiento de cada review se basará en la tokenización de cada palabra no hay conflicto al unificar las dos columnas y usarlas dentro del modelo."
   ]
  },
  {
   "cell_type": "code",
   "execution_count": 17,
   "id": "7b6a38b6-99cf-4beb-b1ec-3bfec262c375",
   "metadata": {},
   "outputs": [
    {
     "name": "stdout",
     "output_type": "stream",
     "text": [
      "Tamaño de X_train: (3598,)\n",
      "Tamaño de X_test: (900,)\n",
      "Tamaño de y_train: (3598,)\n",
      "Tamaño de y_test: (900,)\n"
     ]
    }
   ],
   "source": [
    "X = df_hotel['review_text'] + \" \" + df_hotel['title'] # concatenar las columnas review_text y tittle\n",
    "y = df_hotel['label']\n",
    "\n",
    "X_train, X_test, y_train, y_test = train_test_split(X, y, test_size=0.2, stratify=y, random_state=1)\n",
    "\n",
    "# Verificar el tamaño de los conjuntos de datos\n",
    "print(\"Tamaño de X_train:\", X_train.shape)\n",
    "print(\"Tamaño de X_test:\", X_test.shape)\n",
    "print(\"Tamaño de y_train:\", y_train.shape)\n",
    "print(\"Tamaño de y_test:\", y_test.shape)"
   ]
  },
  {
   "cell_type": "markdown",
   "id": "977627c3-01d1-4ff3-9de8-eb702f17759d",
   "metadata": {},
   "source": [
    "Procedemos a realizar una division de reviews etiquetados en los conjunto de entrenamiento y test, con el fin de evaluar la capacidad de generalizacion del modelo.  El conjunto de prueba se usará para evaluar el modelo generado. Stratify permite asegurar que la división de los datos sea muy similar para ambos conjuntos y las pruebas puedan tener mayor posibilidad de generar buenos resultados."
   ]
  },
  {
   "cell_type": "code",
   "execution_count": 18,
   "id": "a7db0dc6-358b-4daa-8a1c-b06f6660eff5",
   "metadata": {},
   "outputs": [
    {
     "data": {
      "text/plain": [
       "1    0.724291\n",
       "0    0.275709\n",
       "Name: label, dtype: float64"
      ]
     },
     "execution_count": 18,
     "metadata": {},
     "output_type": "execute_result"
    }
   ],
   "source": [
    "pd.Series(y_train).value_counts(normalize = True)"
   ]
  },
  {
   "cell_type": "markdown",
   "id": "b713847e-2e41-430a-a37b-67427ec4ad73",
   "metadata": {},
   "source": [
    "## 2.1) Tokenizacion de las reviews"
   ]
  },
  {
   "cell_type": "markdown",
   "id": "6956091a-ac87-41ba-87a6-fdf06fed5041",
   "metadata": {},
   "source": [
    "Al iterar procesamientos, se encontro una cadena ´jjjjjj´ dentro de las reviews que estaba afectando a la ejecución por lo que se añadio a las stopwords. También se encontraron que habían reviews en epañol e inglés por lo anterior y debido a que los idiomas tienen diferente tratamiento, se les procesará diferenciadamente."
   ]
  },
  {
   "cell_type": "code",
   "execution_count": 19,
   "id": "0fb094f9-53c2-4e3b-aec0-d46b93eab6f7",
   "metadata": {},
   "outputs": [],
   "source": [
    "stop_words_en = stopwords.words('english')\n",
    "stop_words_es = stopwords.words('spanish')\n",
    "\n",
    "# combine the two sets of stop words\n",
    "stop_words = stop_words_en + stop_words_es\n",
    "\n",
    "# add \"jjjjjj\" to the stop words list\n",
    "stop_words.append('jjjjjj')\n",
    "\n",
    "# use the updated stop words list in your text processing\n",
    "\n"
   ]
  },
  {
   "cell_type": "markdown",
   "id": "90aafb63-e45a-4995-89ce-c6313339f03f",
   "metadata": {},
   "source": [
    "Se crea la función tokenizer que recibe el texto asociado a cada review, detecta su idioma y de acuerdo al mismo realiza una tokenizacion removiendo los caracteres no-alfanúmericos."
   ]
  },
  {
   "cell_type": "code",
   "execution_count": 20,
   "id": "bc03d9ab-d3d5-4470-b839-8a3b91ef16ba",
   "metadata": {},
   "outputs": [
    {
     "name": "stdout",
     "output_type": "stream",
     "text": [
      "Requirement already satisfied: num2words in c:\\users\\asus\\anaconda3\\lib\\site-packages (0.5.12)\n",
      "Requirement already satisfied: docopt>=0.6.2 in c:\\users\\asus\\anaconda3\\lib\\site-packages (from num2words) (0.6.2)\n"
     ]
    }
   ],
   "source": [
    "import nltk\n",
    "\n",
    "from nltk.corpus import wordnet\n",
    "from nltk.stem import WordNetLemmatizer\n",
    "from nltk.tokenize import RegexpTokenizer\n",
    "from langdetect import detect\n",
    "from nltk import pos_tag\n",
    "\n",
    "!pip install num2words\n",
    "from num2words import num2words\n",
    "\n",
    "# create tokenizer\n",
    "tokenizer = RegexpTokenizer(r'\\w+')\n",
    "\n",
    "# create lemmatizer\n",
    "lemmatizer = WordNetLemmatizer()\n",
    "\n",
    "# function to map part-of-speech tags to WordNet POS tags\n",
    "def get_wordnet_pos(treebank_tag):\n",
    "    if treebank_tag.startswith('J'):\n",
    "        return 'a' # Adjetivo\n",
    "    elif treebank_tag.startswith('V'):\n",
    "        return 'v' # Verbo\n",
    "    elif treebank_tag.startswith('N'):\n",
    "        return 'n' # Sustantivo\n",
    "    elif treebank_tag.startswith('R'):\n",
    "        return 'r' # Adverbio\n",
    "    else:\n",
    "        return 'n' # Sustantivo por defecto\n",
    "\n",
    "# function to tokenize and lemmatize text\n",
    "def tokenizer(text):\n",
    "    # detect language of text\n",
    "    language = detect(text)\n",
    "\n",
    "    # initialize spellchecker based on language\n",
    "    if language == 'es':\n",
    "        # tokenize Spanish text\n",
    "        tokens = nltk.word_tokenize(text, language='spanish')\n",
    "    else:\n",
    "        # tokenize English text\n",
    "        tokens = nltk.word_tokenize(text)\n",
    "\n",
    "    # remove non-alphanumeric characters\n",
    "    tokens = [token for token in tokens if token.isalnum()]\n",
    "    \n",
    "    # transform numbers from digit format to word format\n",
    "    tokens = [num2words(token) if token.isnumeric() else token for token in tokens]\n",
    "\n",
    "    # lemmatize tokens\n",
    "    tokens = [lemmatizer.lemmatize(token, pos=get_wordnet_pos(pos_tag([token])[0][1])) for token in tokens]\n",
    "    \n",
    "    \n",
    "\n",
    "    return tokens"
   ]
  },
  {
   "cell_type": "markdown",
   "id": "4ec81617-6316-4abb-8237-b5bbeedab3eb",
   "metadata": {},
   "source": [
    "## 2.2) Vectorizacion con TF-IDF"
   ]
  },
  {
   "cell_type": "markdown",
   "id": "a98c1318-5ab4-42e0-81c1-4c4a7353594a",
   "metadata": {},
   "source": [
    "TF-IDF es una técnica de ponderación que se utiliza a menudo en el modelo de bolsa de palabras para determinar la importancia de una palabra en una review en relación con una colección de reviews. TF-IDF es el producto de dos medidas: la frecuencia del término (TF) y la frecuencia inversa del documento (IDF). La frecuencia del término mide la frecuencia de una palabra en una review específica, mientras que la frecuencia inversa del documento mide la rareza de una palabra en toda la colección de reviews. Al multiplicar estas dos medidas, se obtiene un peso que refleja la importancia de una palabra en una review en relación con toda la colección. Las palabras que son comunes en todas las reviews tendrán un peso bajo, mientras que las palabras que son raras y aparecen solo en unas pocas reviews tendrán un peso alto. Esto permite resaltar las palabras más relevantes para cada review.\n",
    "\n"
   ]
  },
  {
   "cell_type": "code",
   "execution_count": 21,
   "id": "de10a986-c61d-4e52-885f-06d454405bb1",
   "metadata": {},
   "outputs": [],
   "source": [
    "tfidf = TfidfVectorizer(tokenizer = tokenizer, stop_words = stop_words, lowercase = True)"
   ]
  },
  {
   "cell_type": "code",
   "execution_count": 22,
   "id": "22644c7b-63dc-484d-ba64-09a4be70f216",
   "metadata": {},
   "outputs": [
    {
     "name": "stderr",
     "output_type": "stream",
     "text": [
      "C:\\Users\\ASUS\\anaconda3\\lib\\site-packages\\sklearn\\feature_extraction\\text.py:396: UserWarning: Your stop_words may be inconsistent with your preprocessing. Tokenizing the stop words generated tokens ['could', 'far', 'might', 'must', 'need', 'sha', 'wo', 'would'] not in stop_words.\n",
      "  warnings.warn(\n"
     ]
    }
   ],
   "source": [
    "X_tfidf = tfidf.fit_transform(X_train)"
   ]
  },
  {
   "cell_type": "code",
   "execution_count": 23,
   "id": "b7e7c234-5d38-45c0-954b-9f6581afcaac",
   "metadata": {},
   "outputs": [
    {
     "data": {
      "text/plain": [
       "16793"
      ]
     },
     "execution_count": 23,
     "metadata": {},
     "output_type": "execute_result"
    }
   ],
   "source": [
    "len(tfidf.vocabulary_)"
   ]
  },
  {
   "cell_type": "markdown",
   "id": "fd889931-a8b9-4b02-8982-a6fbba800f3c",
   "metadata": {},
   "source": [
    "## Entrenamiento y Evaluacion de los modelos y algoritmos "
   ]
  },
  {
   "cell_type": "markdown",
   "id": "4929da54-9b22-44ee-b625-f1b6427960bf",
   "metadata": {},
   "source": [
    "Se realizaran los procesos de entrenamiento y evaluación de los modelos, después en base a los resultados se concluirá y se escogeran los modleos que mejor representen y cumplan las metas propuestas por el cliente."
   ]
  },
  {
   "cell_type": "markdown",
   "id": "3810b1f6-a54e-4c23-8d4a-56e0c914576c",
   "metadata": {},
   "source": [
    "## Random Forest"
   ]
  },
  {
   "cell_type": "code",
   "execution_count": 24,
   "id": "23875eb0-631f-43c4-97d7-8c562273d81b",
   "metadata": {},
   "outputs": [],
   "source": [
    "tfidf_model = RandomForestClassifier(random_state = 3)"
   ]
  },
  {
   "cell_type": "code",
   "execution_count": 25,
   "id": "bcbb29b0-e20d-43d1-8138-48eac71ddcbc",
   "metadata": {},
   "outputs": [
    {
     "data": {
      "text/plain": [
       "RandomForestClassifier(random_state=3)"
      ]
     },
     "execution_count": 25,
     "metadata": {},
     "output_type": "execute_result"
    }
   ],
   "source": [
    "tfidf_model.fit(X_tfidf, y_train)"
   ]
  },
  {
   "cell_type": "code",
   "execution_count": 26,
   "id": "3c9c2845-38e4-4ff1-b808-4db3feda4cd2",
   "metadata": {},
   "outputs": [
    {
     "data": {
      "text/plain": [
       "<AxesSubplot:>"
      ]
     },
     "execution_count": 26,
     "metadata": {},
     "output_type": "execute_result"
    },
    {
     "data": {
      "image/png": "[encoded data removed]",
      "text/plain": [
       "<Figure size 1080x720 with 1 Axes>"
      ]
     },
     "metadata": {
      "needs_background": "light"
     },
     "output_type": "display_data"
    }
   ],
   "source": [
    "pd.Series(tfidf_model.feature_importances_, index = tfidf.vocabulary_).sort_values().tail(20).plot.barh(figsize = (15, 10))"
   ]
  },
  {
   "cell_type": "code",
   "execution_count": 27,
   "id": "300c14e7-680d-4991-b04b-76546581182c",
   "metadata": {},
   "outputs": [
    {
     "name": "stdout",
     "output_type": "stream",
     "text": [
      "Number of trees: 100\n",
      "Trees depth (mean): 143.33\n"
     ]
    }
   ],
   "source": [
    "tfidf_estimators = tfidf_model.estimators_\n",
    "print('Number of trees:', len(tfidf_estimators))\n",
    "print('Trees depth (mean):', np.mean([tree.get_depth() for tree in tfidf_estimators]))"
   ]
  },
  {
   "cell_type": "code",
   "execution_count": 28,
   "id": "9147f4f7-cd2a-4dc7-9d66-8a03421b4683",
   "metadata": {},
   "outputs": [],
   "source": [
    "y_train_tfidf_predict = tfidf_model.predict(X_tfidf)\n",
    "y_test_tfidf_predict = tfidf_model.predict(tfidf.transform(X_test))"
   ]
  },
  {
   "cell_type": "code",
   "execution_count": 29,
   "id": "f5b4365f-665b-41c1-b6e0-4fb9f9691956",
   "metadata": {},
   "outputs": [
    {
     "data": {
      "text/plain": [
       "<sklearn.metrics._plot.confusion_matrix.ConfusionMatrixDisplay at 0x2b529992eb0>"
      ]
     },
     "execution_count": 29,
     "metadata": {},
     "output_type": "execute_result"
    },
    {
     "data": {
      "image/png": "[encoded data removed]",
      "text/plain": [
       "<Figure size 432x288 with 2 Axes>"
      ]
     },
     "metadata": {
      "needs_background": "light"
     },
     "output_type": "display_data"
    }
   ],
   "source": [
    "ConfusionMatrixDisplay.from_predictions(y_train, y_train_tfidf_predict)"
   ]
  },
  {
   "cell_type": "code",
   "execution_count": 30,
   "id": "fd6fc93b-0c68-4a16-bf48-3dcb3f82864f",
   "metadata": {},
   "outputs": [
    {
     "data": {
      "text/plain": [
       "<sklearn.metrics._plot.confusion_matrix.ConfusionMatrixDisplay at 0x2b536b374c0>"
      ]
     },
     "execution_count": 30,
     "metadata": {},
     "output_type": "execute_result"
    },
    {
     "data": {
      "image/png": "[encoded data removed]",
      "text/plain": [
       "<Figure size 432x288 with 2 Axes>"
      ]
     },
     "metadata": {
      "needs_background": "light"
     },
     "output_type": "display_data"
    }
   ],
   "source": [
    "ConfusionMatrixDisplay.from_predictions(y_test, y_test_tfidf_predict)"
   ]
  },
  {
   "cell_type": "code",
   "execution_count": 31,
   "id": "a4aa0652-eb17-48d7-87c3-062e40ac2609",
   "metadata": {},
   "outputs": [
    {
     "name": "stdout",
     "output_type": "stream",
     "text": [
      "Precision: 0.8604026845637583\n",
      "Recall: 0.9831288343558282\n",
      "F1: 0.917680744452398\n"
     ]
    }
   ],
   "source": [
    "if len(tfidf_model.classes_) == 2:\n",
    "    print('Precision:', precision_score(y_test, y_test_tfidf_predict, pos_label = 1))\n",
    "    print('Recall:', recall_score(y_test, y_test_tfidf_predict, pos_label = 1))\n",
    "    print('F1:', f1_score(y_test, y_test_tfidf_predict, pos_label = 1))"
   ]
  },
  {
   "cell_type": "markdown",
   "id": "7161b340-5e9b-4c93-89f5-12d7e40e7791",
   "metadata": {},
   "source": [
    "### Análisis del error\n"
   ]
  },
  {
   "cell_type": "code",
   "execution_count": 32,
   "id": "561579db-be08-4eb4-b83a-793417b76f24",
   "metadata": {},
   "outputs": [
    {
     "data": {
      "text/plain": [
       "0            object\n",
       "actual        int64\n",
       "predicted     int64\n",
       "dtype: object"
      ]
     },
     "execution_count": 32,
     "metadata": {},
     "output_type": "execute_result"
    }
   ],
   "source": [
    "error_df = pd.concat(\n",
    "    [ pd.concat([X_test, y_test], axis=1).reset_index(),\n",
    "    pd.Series(y_test_tfidf_predict, name='predicted') ],\n",
    "    axis=1\n",
    ").rename(columns={'label': 'actual'})\n",
    "error_df.drop('index', inplace = True, axis = 1)\n",
    "error_df.dtypes"
   ]
  },
  {
   "cell_type": "code",
   "execution_count": 33,
   "id": "694e8055-4b58-4a75-9554-089b2653a2aa",
   "metadata": {},
   "outputs": [
    {
     "data": {
      "text/plain": [
       "(115, 3)"
      ]
     },
     "execution_count": 33,
     "metadata": {},
     "output_type": "execute_result"
    }
   ],
   "source": [
    "error_df.loc[error_df['actual'] != error_df['predicted']].shape"
   ]
  },
  {
   "cell_type": "code",
   "execution_count": 34,
   "id": "221431ec-8ae0-4785-87b6-f855b9aca37c",
   "metadata": {},
   "outputs": [
    {
     "data": {
      "text/html": [
       "<div>\n",
       "<style scoped>\n",
       "    .dataframe tbody tr th:only-of-type {\n",
       "        vertical-align: middle;\n",
       "    }\n",
       "\n",
       "    .dataframe tbody tr th {\n",
       "        vertical-align: top;\n",
       "    }\n",
       "\n",
       "    .dataframe thead th {\n",
       "        text-align: right;\n",
       "    }\n",
       "</style>\n",
       "<table border=\"1\" class=\"dataframe\">\n",
       "  <thead>\n",
       "    <tr style=\"text-align: right;\">\n",
       "      <th></th>\n",
       "      <th>0</th>\n",
       "      <th>actual</th>\n",
       "      <th>predicted</th>\n",
       "    </tr>\n",
       "  </thead>\n",
       "  <tbody>\n",
       "    <tr>\n",
       "      <th>6</th>\n",
       "      <td>Llegamos de rebote a este hotel porque aquel d...</td>\n",
       "      <td>0</td>\n",
       "      <td>1</td>\n",
       "    </tr>\n",
       "    <tr>\n",
       "      <th>9</th>\n",
       "      <td>Nos alojamos en verano porque la casa de los f...</td>\n",
       "      <td>0</td>\n",
       "      <td>1</td>\n",
       "    </tr>\n",
       "    <tr>\n",
       "      <th>25</th>\n",
       "      <td>Fue agradable alojarse en Córdoba apartamentos...</td>\n",
       "      <td>0</td>\n",
       "      <td>1</td>\n",
       "    </tr>\n",
       "    <tr>\n",
       "      <th>27</th>\n",
       "      <td>La ubicación es fantástica, la casa tiene enca...</td>\n",
       "      <td>0</td>\n",
       "      <td>1</td>\n",
       "    </tr>\n",
       "    <tr>\n",
       "      <th>42</th>\n",
       "      <td>Pues habiendo estado varias veces en este hote...</td>\n",
       "      <td>0</td>\n",
       "      <td>1</td>\n",
       "    </tr>\n",
       "    <tr>\n",
       "      <th>...</th>\n",
       "      <td>...</td>\n",
       "      <td>...</td>\n",
       "      <td>...</td>\n",
       "    </tr>\n",
       "    <tr>\n",
       "      <th>841</th>\n",
       "      <td>Buena calidad-precio. Habitación muy amplia, c...</td>\n",
       "      <td>0</td>\n",
       "      <td>1</td>\n",
       "    </tr>\n",
       "    <tr>\n",
       "      <th>847</th>\n",
       "      <td>No aconsejo para nada la estancia en estos apa...</td>\n",
       "      <td>0</td>\n",
       "      <td>1</td>\n",
       "    </tr>\n",
       "    <tr>\n",
       "      <th>887</th>\n",
       "      <td>Habitaciones con temática que no se sabe por q...</td>\n",
       "      <td>0</td>\n",
       "      <td>1</td>\n",
       "    </tr>\n",
       "    <tr>\n",
       "      <th>891</th>\n",
       "      <td>He estado una noche y el hotel es un poco anti...</td>\n",
       "      <td>0</td>\n",
       "      <td>1</td>\n",
       "    </tr>\n",
       "    <tr>\n",
       "      <th>897</th>\n",
       "      <td>Nos mandaron ha este hotel, engañados por el a...</td>\n",
       "      <td>0</td>\n",
       "      <td>1</td>\n",
       "    </tr>\n",
       "  </tbody>\n",
       "</table>\n",
       "<p>115 rows × 3 columns</p>\n",
       "</div>"
      ],
      "text/plain": [
       "                                                     0  actual  predicted\n",
       "6    Llegamos de rebote a este hotel porque aquel d...       0          1\n",
       "9    Nos alojamos en verano porque la casa de los f...       0          1\n",
       "25   Fue agradable alojarse en Córdoba apartamentos...       0          1\n",
       "27   La ubicación es fantástica, la casa tiene enca...       0          1\n",
       "42   Pues habiendo estado varias veces en este hote...       0          1\n",
       "..                                                 ...     ...        ...\n",
       "841  Buena calidad-precio. Habitación muy amplia, c...       0          1\n",
       "847  No aconsejo para nada la estancia en estos apa...       0          1\n",
       "887  Habitaciones con temática que no se sabe por q...       0          1\n",
       "891  He estado una noche y el hotel es un poco anti...       0          1\n",
       "897  Nos mandaron ha este hotel, engañados por el a...       0          1\n",
       "\n",
       "[115 rows x 3 columns]"
      ]
     },
     "execution_count": 34,
     "metadata": {},
     "output_type": "execute_result"
    }
   ],
   "source": [
    "error_df.loc[error_df['actual'] != error_df['predicted']]"
   ]
  },
  {
   "cell_type": "markdown",
   "id": "861116c8-aa16-4c4d-bf48-f1b7f5d5dec6",
   "metadata": {},
   "source": [
    "### Arboles de decison"
   ]
  },
  {
   "cell_type": "code",
   "execution_count": 35,
   "id": "82a09419-60fa-4fec-aab7-f4e3a2bb1d97",
   "metadata": {},
   "outputs": [
    {
     "data": {
      "text/plain": [
       "DecisionTreeClassifier()"
      ]
     },
     "execution_count": 35,
     "metadata": {},
     "output_type": "execute_result"
    }
   ],
   "source": [
    "from sklearn.tree import DecisionTreeClassifier\n",
    "\n",
    "# Create a decision tree classifier with default hyperparameters\n",
    "tree_model = DecisionTreeClassifier()\n",
    "tree_model.fit(X_tfidf, y_train)\n"
   ]
  },
  {
   "cell_type": "code",
   "execution_count": 36,
   "id": "4bdb21b2-77e9-4c3a-8790-73ab1a1f9478",
   "metadata": {},
   "outputs": [
    {
     "data": {
      "text/plain": [
       "<AxesSubplot:>"
      ]
     },
     "execution_count": 36,
     "metadata": {},
     "output_type": "execute_result"
    },
    {
     "data": {
      "image/png": "[encoded data removed]",
      "text/plain": [
       "<Figure size 1080x720 with 1 Axes>"
      ]
     },
     "metadata": {
      "needs_background": "light"
     },
     "output_type": "display_data"
    }
   ],
   "source": [
    "pd.Series(tree_model.feature_importances_, index = tfidf.vocabulary_).sort_values().tail(20).plot.barh(figsize = (15, 10))"
   ]
  },
  {
   "cell_type": "code",
   "execution_count": 37,
   "id": "6d9a4175-dff2-4bc6-95e6-5adfb11f41e0",
   "metadata": {},
   "outputs": [
    {
     "name": "stdout",
     "output_type": "stream",
     "text": [
      "Tree depth: 98\n"
     ]
    }
   ],
   "source": [
    "\n",
    "depth = tree_model.get_depth()\n",
    "print('Tree depth:', depth)"
   ]
  },
  {
   "cell_type": "code",
   "execution_count": 38,
   "id": "10a539ae-0a89-4f1d-97ba-7eafeccf9bd2",
   "metadata": {},
   "outputs": [],
   "source": [
    "y_train_tfidf_predictTree = tree_model.predict(X_tfidf)\n",
    "y_test_tfidf_predictTree = tree_model.predict(tfidf.transform(X_test))"
   ]
  },
  {
   "cell_type": "code",
   "execution_count": 39,
   "id": "e40c3988-855c-4cb8-9b54-376d179f9f6a",
   "metadata": {},
   "outputs": [
    {
     "data": {
      "text/plain": [
       "<sklearn.metrics._plot.confusion_matrix.ConfusionMatrixDisplay at 0x2b538d2feb0>"
      ]
     },
     "execution_count": 39,
     "metadata": {},
     "output_type": "execute_result"
    },
    {
     "data": {
      "image/png": "[encoded data removed]",
      "text/plain": [
       "<Figure size 432x288 with 2 Axes>"
      ]
     },
     "metadata": {
      "needs_background": "light"
     },
     "output_type": "display_data"
    }
   ],
   "source": [
    "ConfusionMatrixDisplay.from_predictions(y_train, y_train_tfidf_predictTree)"
   ]
  },
  {
   "cell_type": "code",
   "execution_count": 40,
   "id": "5ad965b1-919a-483f-9b08-880e9edf05eb",
   "metadata": {},
   "outputs": [
    {
     "data": {
      "text/plain": [
       "<sklearn.metrics._plot.confusion_matrix.ConfusionMatrixDisplay at 0x2b538d88ca0>"
      ]
     },
     "execution_count": 40,
     "metadata": {},
     "output_type": "execute_result"
    },
    {
     "data": {
      "image/png": "[encoded data removed]",
      "text/plain": [
       "<Figure size 432x288 with 2 Axes>"
      ]
     },
     "metadata": {
      "needs_background": "light"
     },
     "output_type": "display_data"
    }
   ],
   "source": [
    "ConfusionMatrixDisplay.from_predictions(y_test, y_test_tfidf_predictTree)"
   ]
  },
  {
   "cell_type": "code",
   "execution_count": 41,
   "id": "2bc3ddc4-f69b-4102-a518-05f46803e1e1",
   "metadata": {},
   "outputs": [
    {
     "name": "stdout",
     "output_type": "stream",
     "text": [
      "Precision: 1.0\n",
      "Recall: 1.0\n",
      "F1: 1.0\n"
     ]
    }
   ],
   "source": [
    "if len(tree_model.classes_) == 2:\n",
    "    print('Precision:', precision_score(y_train, y_train_tfidf_predictTree, pos_label =1))\n",
    "    print('Recall:', recall_score(y_train, y_train_tfidf_predictTree, pos_label = 1))\n",
    "    print('F1:', f1_score(y_train, y_train_tfidf_predictTree, pos_label = 1))\n"
   ]
  },
  {
   "cell_type": "code",
   "execution_count": 42,
   "id": "6f7158a4-2144-4817-8b0a-b6e78dd77454",
   "metadata": {},
   "outputs": [
    {
     "name": "stdout",
     "output_type": "stream",
     "text": [
      "Precision: 0.8621745788667687\n",
      "Recall: 0.8634969325153374\n",
      "F1: 0.8628352490421456\n"
     ]
    }
   ],
   "source": [
    "if len(tfidf_model.classes_) == 2:\n",
    "    print('Precision:', precision_score(y_test, y_test_tfidf_predictTree, pos_label = 1))\n",
    "    print('Recall:', recall_score(y_test, y_test_tfidf_predictTree, pos_label = 1))\n",
    "    print('F1:', f1_score(y_test, y_test_tfidf_predictTree, pos_label = 1))"
   ]
  },
  {
   "cell_type": "code",
   "execution_count": 43,
   "id": "14fbfffd-66a2-46ea-a634-f00242e0da6d",
   "metadata": {},
   "outputs": [
    {
     "data": {
      "text/plain": [
       "0            object\n",
       "actual        int64\n",
       "predicted     int64\n",
       "dtype: object"
      ]
     },
     "execution_count": 43,
     "metadata": {},
     "output_type": "execute_result"
    }
   ],
   "source": [
    "error_df2 = pd.concat(\n",
    "    [ pd.concat([X_test, y_test], axis=1).reset_index(),\n",
    "    pd.Series(y_test_tfidf_predictTree, name='predicted') ],\n",
    "    axis=1\n",
    ").rename(columns={'label': 'actual'})\n",
    "error_df2.drop('index', inplace = True, axis = 1)\n",
    "error_df2.dtypes"
   ]
  },
  {
   "cell_type": "code",
   "execution_count": 44,
   "id": "ebe6d31d-2366-4af4-acab-1f0bddd818dd",
   "metadata": {},
   "outputs": [
    {
     "data": {
      "text/plain": [
       "(179, 3)"
      ]
     },
     "execution_count": 44,
     "metadata": {},
     "output_type": "execute_result"
    }
   ],
   "source": [
    "error_df2.loc[error_df2['actual'] != error_df2['predicted']].shape"
   ]
  },
  {
   "cell_type": "code",
   "execution_count": 45,
   "id": "0819d33d-d888-4d6b-a77d-0959409d72eb",
   "metadata": {},
   "outputs": [
    {
     "data": {
      "text/html": [
       "<div>\n",
       "<style scoped>\n",
       "    .dataframe tbody tr th:only-of-type {\n",
       "        vertical-align: middle;\n",
       "    }\n",
       "\n",
       "    .dataframe tbody tr th {\n",
       "        vertical-align: top;\n",
       "    }\n",
       "\n",
       "    .dataframe thead th {\n",
       "        text-align: right;\n",
       "    }\n",
       "</style>\n",
       "<table border=\"1\" class=\"dataframe\">\n",
       "  <thead>\n",
       "    <tr style=\"text-align: right;\">\n",
       "      <th></th>\n",
       "      <th>0</th>\n",
       "      <th>actual</th>\n",
       "      <th>predicted</th>\n",
       "    </tr>\n",
       "  </thead>\n",
       "  <tbody>\n",
       "    <tr>\n",
       "      <th>425</th>\n",
       "      <td>Yo soy de Granada y solo conozco la parte de l...</td>\n",
       "      <td>1</td>\n",
       "      <td>0</td>\n",
       "    </tr>\n",
       "    <tr>\n",
       "      <th>753</th>\n",
       "      <td>No hay absolutamente nada de malo en este luga...</td>\n",
       "      <td>1</td>\n",
       "      <td>0</td>\n",
       "    </tr>\n",
       "    <tr>\n",
       "      <th>8</th>\n",
       "      <td>El hostel en si es muy bonito, con ascensor y ...</td>\n",
       "      <td>1</td>\n",
       "      <td>0</td>\n",
       "    </tr>\n",
       "    <tr>\n",
       "      <th>730</th>\n",
       "      <td>Empezar diciendo que creo que no aceptan niños...</td>\n",
       "      <td>1</td>\n",
       "      <td>0</td>\n",
       "    </tr>\n",
       "    <tr>\n",
       "      <th>514</th>\n",
       "      <td>Mi opinión personal acerca del Hotel Casa Pila...</td>\n",
       "      <td>1</td>\n",
       "      <td>0</td>\n",
       "    </tr>\n",
       "    <tr>\n",
       "      <th>183</th>\n",
       "      <td>Buena ubicación en el centro de Sevilla, cerca...</td>\n",
       "      <td>0</td>\n",
       "      <td>1</td>\n",
       "    </tr>\n",
       "    <tr>\n",
       "      <th>125</th>\n",
       "      <td>Hotel situado junto al rio, cerca de un centro...</td>\n",
       "      <td>1</td>\n",
       "      <td>0</td>\n",
       "    </tr>\n",
       "    <tr>\n",
       "      <th>536</th>\n",
       "      <td>Perfectamente situado para acceder a granada. ...</td>\n",
       "      <td>1</td>\n",
       "      <td>0</td>\n",
       "    </tr>\n",
       "    <tr>\n",
       "      <th>402</th>\n",
       "      <td>veraneamos hace varios años en bahia sur , y l...</td>\n",
       "      <td>0</td>\n",
       "      <td>1</td>\n",
       "    </tr>\n",
       "    <tr>\n",
       "      <th>888</th>\n",
       "      <td>El hotel está muy céntrico para conocer Jerez....</td>\n",
       "      <td>1</td>\n",
       "      <td>0</td>\n",
       "    </tr>\n",
       "  </tbody>\n",
       "</table>\n",
       "</div>"
      ],
      "text/plain": [
       "                                                     0  actual  predicted\n",
       "425  Yo soy de Granada y solo conozco la parte de l...       1          0\n",
       "753  No hay absolutamente nada de malo en este luga...       1          0\n",
       "8    El hostel en si es muy bonito, con ascensor y ...       1          0\n",
       "730  Empezar diciendo que creo que no aceptan niños...       1          0\n",
       "514  Mi opinión personal acerca del Hotel Casa Pila...       1          0\n",
       "183  Buena ubicación en el centro de Sevilla, cerca...       0          1\n",
       "125  Hotel situado junto al rio, cerca de un centro...       1          0\n",
       "536  Perfectamente situado para acceder a granada. ...       1          0\n",
       "402  veraneamos hace varios años en bahia sur , y l...       0          1\n",
       "888  El hotel está muy céntrico para conocer Jerez....       1          0"
      ]
     },
     "execution_count": 45,
     "metadata": {},
     "output_type": "execute_result"
    }
   ],
   "source": [
    "error_df2.loc[error_df2['actual'] != error_df2['predicted']].sample(10)"
   ]
  },
  {
   "cell_type": "markdown",
   "id": "51550ed1",
   "metadata": {},
   "source": [
    "### Regresión logística"
   ]
  },
  {
   "cell_type": "code",
   "execution_count": 46,
   "id": "56fdb9a5",
   "metadata": {},
   "outputs": [
    {
     "data": {
      "text/plain": [
       "LogisticRegression()"
      ]
     },
     "execution_count": 46,
     "metadata": {},
     "output_type": "execute_result"
    }
   ],
   "source": [
    "from sklearn import linear_model\n",
    "\n",
    "logistic_model = linear_model.LogisticRegression()\n",
    "logistic_model.fit(X_tfidf, y_train)"
   ]
  },
  {
   "cell_type": "code",
   "execution_count": 47,
   "id": "23c4a391",
   "metadata": {},
   "outputs": [
    {
     "name": "stderr",
     "output_type": "stream",
     "text": [
      "C:\\Users\\ASUS\\anaconda3\\lib\\site-packages\\sklearn\\utils\\deprecation.py:87: FutureWarning: Function get_feature_names is deprecated; get_feature_names is deprecated in 1.0 and will be removed in 1.2. Please use get_feature_names_out instead.\n",
      "  warnings.warn(msg, category=FutureWarning)\n"
     ]
    },
    {
     "data": {
      "text/plain": [
       "<AxesSubplot:>"
      ]
     },
     "execution_count": 47,
     "metadata": {},
     "output_type": "execute_result"
    },
    {
     "data": {
      "image/png": "[encoded data removed]",
      "text/plain": [
       "<Figure size 1080x720 with 1 Axes>"
      ]
     },
     "metadata": {
      "needs_background": "light"
     },
     "output_type": "display_data"
    }
   ],
   "source": [
    "coef = logistic_model.coef_[0]\n",
    "indices = coef.argsort()[-20:]\n",
    "imp_features = pd.Series(coef[indices], index=np.array(tfidf.get_feature_names())[indices])\n",
    "\n",
    "imp_features.plot(kind='barh', figsize=(15,10))\n"
   ]
  },
  {
   "cell_type": "code",
   "execution_count": 48,
   "id": "1e6bd000",
   "metadata": {},
   "outputs": [],
   "source": [
    "y_train_tfidf_predictLogistic = logistic_model.predict(X_tfidf)\n",
    "y_test_tfidf_predictLogistic = logistic_model.predict(tfidf.transform(X_test))"
   ]
  },
  {
   "cell_type": "code",
   "execution_count": 49,
   "id": "a5748b27",
   "metadata": {},
   "outputs": [
    {
     "data": {
      "text/plain": [
       "<sklearn.metrics._plot.confusion_matrix.ConfusionMatrixDisplay at 0x2b538d485b0>"
      ]
     },
     "execution_count": 49,
     "metadata": {},
     "output_type": "execute_result"
    },
    {
     "data": {
      "image/png": "[encoded data removed]",
      "text/plain": [
       "<Figure size 432x288 with 2 Axes>"
      ]
     },
     "metadata": {
      "needs_background": "light"
     },
     "output_type": "display_data"
    }
   ],
   "source": [
    "ConfusionMatrixDisplay.from_predictions(y_train, y_train_tfidf_predictLogistic)"
   ]
  },
  {
   "cell_type": "code",
   "execution_count": 50,
   "id": "194f30d5",
   "metadata": {},
   "outputs": [
    {
     "data": {
      "text/plain": [
       "<sklearn.metrics._plot.confusion_matrix.ConfusionMatrixDisplay at 0x2b539228ca0>"
      ]
     },
     "execution_count": 50,
     "metadata": {},
     "output_type": "execute_result"
    },
    {
     "data": {
      "image/png": "[encoded data removed]",
      "text/plain": [
       "<Figure size 432x288 with 2 Axes>"
      ]
     },
     "metadata": {
      "needs_background": "light"
     },
     "output_type": "display_data"
    }
   ],
   "source": [
    "ConfusionMatrixDisplay.from_predictions(y_test, y_test_tfidf_predictLogistic)"
   ]
  },
  {
   "cell_type": "markdown",
   "id": "d1601dad",
   "metadata": {},
   "source": [
    "Métricas del entrenamiento"
   ]
  },
  {
   "cell_type": "code",
   "execution_count": 51,
   "id": "75f35c71",
   "metadata": {},
   "outputs": [
    {
     "name": "stdout",
     "output_type": "stream",
     "text": [
      "Precision: 0.9285457809694794\n",
      "Recall: 0.9923254029163469\n",
      "F1: 0.9593767390094602\n"
     ]
    }
   ],
   "source": [
    "print('Precision:', precision_score(y_train, y_train_tfidf_predictLogistic, pos_label =1))\n",
    "print('Recall:', recall_score(y_train, y_train_tfidf_predictLogistic, pos_label = 1))\n",
    "print('F1:', f1_score(y_train, y_train_tfidf_predictLogistic, pos_label = 1))"
   ]
  },
  {
   "cell_type": "markdown",
   "id": "5f9f52d3",
   "metadata": {},
   "source": [
    "Métricas del testeo"
   ]
  },
  {
   "cell_type": "code",
   "execution_count": 52,
   "id": "f24b0d91",
   "metadata": {
    "scrolled": true
   },
   "outputs": [
    {
     "name": "stdout",
     "output_type": "stream",
     "text": [
      "Precision: 0.8899721448467967\n",
      "Recall: 0.9800613496932515\n",
      "F1: 0.9328467153284671\n"
     ]
    }
   ],
   "source": [
    "print('Precision:', precision_score(y_test, y_test_tfidf_predictLogistic, pos_label = 1))\n",
    "print('Recall:', recall_score(y_test, y_test_tfidf_predictLogistic, pos_label = 1))\n",
    "print('F1:', f1_score(y_test, y_test_tfidf_predictLogistic, pos_label = 1))"
   ]
  },
  {
   "cell_type": "markdown",
   "id": "0ea058d7",
   "metadata": {},
   "source": [
    "Errores de predicción"
   ]
  },
  {
   "cell_type": "code",
   "execution_count": 53,
   "id": "a5d48c21",
   "metadata": {},
   "outputs": [
    {
     "data": {
      "text/plain": [
       "0            object\n",
       "actual        int64\n",
       "predicted     int64\n",
       "dtype: object"
      ]
     },
     "execution_count": 53,
     "metadata": {},
     "output_type": "execute_result"
    }
   ],
   "source": [
    "error_df3 = pd.concat(\n",
    "    [ pd.concat([X_test, y_test], axis=1).reset_index(),\n",
    "    pd.Series(y_test_tfidf_predictLogistic, name='predicted') ],\n",
    "    axis=1\n",
    ").rename(columns={'label': 'actual'})\n",
    "error_df3.drop('index', inplace = True, axis = 1)\n",
    "error_df3.dtypes"
   ]
  },
  {
   "cell_type": "code",
   "execution_count": 54,
   "id": "b79997c5",
   "metadata": {},
   "outputs": [
    {
     "data": {
      "text/plain": [
       "(92, 3)"
      ]
     },
     "execution_count": 54,
     "metadata": {},
     "output_type": "execute_result"
    }
   ],
   "source": [
    "error_df3.loc[error_df3['actual'] != error_df3['predicted']].shape"
   ]
  },
  {
   "cell_type": "code",
   "execution_count": 55,
   "id": "842fd950",
   "metadata": {},
   "outputs": [
    {
     "data": {
      "text/html": [
       "<div>\n",
       "<style scoped>\n",
       "    .dataframe tbody tr th:only-of-type {\n",
       "        vertical-align: middle;\n",
       "    }\n",
       "\n",
       "    .dataframe tbody tr th {\n",
       "        vertical-align: top;\n",
       "    }\n",
       "\n",
       "    .dataframe thead th {\n",
       "        text-align: right;\n",
       "    }\n",
       "</style>\n",
       "<table border=\"1\" class=\"dataframe\">\n",
       "  <thead>\n",
       "    <tr style=\"text-align: right;\">\n",
       "      <th></th>\n",
       "      <th>0</th>\n",
       "      <th>actual</th>\n",
       "      <th>predicted</th>\n",
       "    </tr>\n",
       "  </thead>\n",
       "  <tbody>\n",
       "    <tr>\n",
       "      <th>817</th>\n",
       "      <td>Tiene buena ubicación si quieres tomar un tren...</td>\n",
       "      <td>0</td>\n",
       "      <td>1</td>\n",
       "    </tr>\n",
       "    <tr>\n",
       "      <th>357</th>\n",
       "      <td>Relación calidad precio buena. El desayuno exc...</td>\n",
       "      <td>0</td>\n",
       "      <td>1</td>\n",
       "    </tr>\n",
       "    <tr>\n",
       "      <th>705</th>\n",
       "      <td>Lugar con buenas instalaciones, acordes al pre...</td>\n",
       "      <td>0</td>\n",
       "      <td>1</td>\n",
       "    </tr>\n",
       "    <tr>\n",
       "      <th>287</th>\n",
       "      <td>Hotel pasable en general, zonas comunes pequeñ...</td>\n",
       "      <td>0</td>\n",
       "      <td>1</td>\n",
       "    </tr>\n",
       "    <tr>\n",
       "      <th>622</th>\n",
       "      <td>Localización.- Para llegar, regular -zona peat...</td>\n",
       "      <td>0</td>\n",
       "      <td>1</td>\n",
       "    </tr>\n",
       "    <tr>\n",
       "      <th>836</th>\n",
       "      <td>la verdad que las habitaciones estan regulares...</td>\n",
       "      <td>0</td>\n",
       "      <td>1</td>\n",
       "    </tr>\n",
       "    <tr>\n",
       "      <th>530</th>\n",
       "      <td>Pasamos una noche en Sevilla y nos quedamos en...</td>\n",
       "      <td>1</td>\n",
       "      <td>0</td>\n",
       "    </tr>\n",
       "    <tr>\n",
       "      <th>627</th>\n",
       "      <td>Hemos pasado 4 días en este hotel y he de dest...</td>\n",
       "      <td>1</td>\n",
       "      <td>0</td>\n",
       "    </tr>\n",
       "    <tr>\n",
       "      <th>448</th>\n",
       "      <td>Soy Carlos, y me hospedé con unos amigos duran...</td>\n",
       "      <td>0</td>\n",
       "      <td>1</td>\n",
       "    </tr>\n",
       "    <tr>\n",
       "      <th>674</th>\n",
       "      <td>Nos prometieron un apartamento de 1 cama, pero...</td>\n",
       "      <td>0</td>\n",
       "      <td>1</td>\n",
       "    </tr>\n",
       "  </tbody>\n",
       "</table>\n",
       "</div>"
      ],
      "text/plain": [
       "                                                     0  actual  predicted\n",
       "817  Tiene buena ubicación si quieres tomar un tren...       0          1\n",
       "357  Relación calidad precio buena. El desayuno exc...       0          1\n",
       "705  Lugar con buenas instalaciones, acordes al pre...       0          1\n",
       "287  Hotel pasable en general, zonas comunes pequeñ...       0          1\n",
       "622  Localización.- Para llegar, regular -zona peat...       0          1\n",
       "836  la verdad que las habitaciones estan regulares...       0          1\n",
       "530  Pasamos una noche en Sevilla y nos quedamos en...       1          0\n",
       "627  Hemos pasado 4 días en este hotel y he de dest...       1          0\n",
       "448  Soy Carlos, y me hospedé con unos amigos duran...       0          1\n",
       "674  Nos prometieron un apartamento de 1 cama, pero...       0          1"
      ]
     },
     "execution_count": 55,
     "metadata": {},
     "output_type": "execute_result"
    }
   ],
   "source": [
    "error_df3.loc[error_df3['actual'] != error_df3['predicted']].sample(10)"
   ]
  }
 ],
 "metadata": {
  "kernelspec": {
   "display_name": "Python 3 (ipykernel)",
   "language": "python",
   "name": "python3"
  },
  "language_info": {
   "codemirror_mode": {
    "name": "ipython",
    "version": 3
   },
   "file_extension": ".py",
   "mimetype": "text/x-python",
   "name": "python",
   "nbconvert_exporter": "python",
   "pygments_lexer": "ipython3",
   "version": "3.9.12"
  }
 },
 "nbformat": 4,
 "nbformat_minor": 5
}
